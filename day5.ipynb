{
 "cells": [
  {
   "cell_type": "code",
   "execution_count": 151,
   "metadata": {},
   "outputs": [],
   "source": [
    "indata = '''    [D]    \n",
    "[N] [C]    \n",
    "[Z] [M] [P] [x]\n",
    " 1   2   3 \n",
    "\n",
    "move 1 from 2 to 1\n",
    "move 3 from 1 to 3\n",
    "move 2 from 2 to 1\n",
    "move 1 from 1 to 2'''"
   ]
  },
  {
   "cell_type": "code",
   "execution_count": 159,
   "metadata": {},
   "outputs": [],
   "source": [
    "import re\n",
    "import itertools\n",
    "from pprint import pprint"
   ]
  },
  {
   "cell_type": "code",
   "execution_count": 160,
   "metadata": {},
   "outputs": [],
   "source": [
    "with open('day5.txt', 'r') as f:\n",
    "    indata = f.read()"
   ]
  },
  {
   "cell_type": "code",
   "execution_count": 161,
   "metadata": {},
   "outputs": [],
   "source": [
    "stack_data, instructions = indata.split('\\n\\n')"
   ]
  },
  {
   "cell_type": "code",
   "execution_count": 162,
   "metadata": {},
   "outputs": [],
   "source": [
    "lines = stack_data.split('\\n')\n",
    "indexes = [int(x) for x in lines[-1].split()]\n",
    "parts = [[ line[(4*(i+1))-3] for i in range(len(indexes)) ] for line in lines ]"
   ]
  },
  {
   "cell_type": "code",
   "execution_count": 163,
   "metadata": {},
   "outputs": [],
   "source": [
    "ship = {}\n",
    "rotated = itertools.zip_longest(*parts[:-1][::-1])\n",
    "for key, values in zip(parts[-1], rotated):\n",
    "    ship[int(key)] = [ v for v in values if v != ' ']"
   ]
  },
  {
   "cell_type": "code",
   "execution_count": 164,
   "metadata": {},
   "outputs": [],
   "source": [
    "moves = [ [int(y) for y in re.findall(r'\\d+', x) ] for x in instructions.split('\\n') ]"
   ]
  },
  {
   "cell_type": "code",
   "execution_count": 165,
   "metadata": {},
   "outputs": [],
   "source": [
    "for count, frm, to in moves:\n",
    "    #print(f\"move {count} ({ship[frm][len(ship[frm])-count:]}) from {ship[frm]} to {ship[to]}\")\n",
    "    ship[frm], to_move = ship[frm][:len(ship[frm])-count], ship[frm][len(ship[frm])-count:]\n",
    "    ship[to] += to_move[::-1]\n",
    "    #pprint(ship)"
   ]
  },
  {
   "cell_type": "code",
   "execution_count": 166,
   "metadata": {},
   "outputs": [
    {
     "data": {
      "text/plain": [
       "'LJSVLTWQM'"
      ]
     },
     "execution_count": 166,
     "metadata": {},
     "output_type": "execute_result"
    }
   ],
   "source": [
    "r = ''\n",
    "for values in ship.values():\n",
    "    r += values[-1] if len(values) > 0 else ''\n",
    "r"
   ]
  },
  {
   "cell_type": "markdown",
   "metadata": {},
   "source": [
    "### part 2\n",
    "same thing but dont reverse..."
   ]
  },
  {
   "cell_type": "code",
   "execution_count": 167,
   "metadata": {},
   "outputs": [
    {
     "data": {
      "text/plain": [
       "'BRQWDBBJM'"
      ]
     },
     "execution_count": 167,
     "metadata": {},
     "output_type": "execute_result"
    }
   ],
   "source": [
    "ship = {}\n",
    "rotated = itertools.zip_longest(*parts[:-1][::-1])\n",
    "for key, values in zip(parts[-1], rotated):\n",
    "    ship[int(key)] = [ v for v in values if v != ' ']\n",
    "moves = [ [int(y) for y in re.findall(r'\\d+', x) ] for x in instructions.split('\\n') ]\n",
    "for count, frm, to in moves:\n",
    "    ship[frm], to_move = ship[frm][:len(ship[frm])-count], ship[frm][len(ship[frm])-count:]\n",
    "    ship[to] += to_move\n",
    "r = ''\n",
    "for values in ship.values():\n",
    "    r += values[-1] if len(values) > 0 else ''\n",
    "r"
   ]
  }
 ],
 "metadata": {
  "kernelspec": {
   "display_name": "Python 3 (ipykernel)",
   "language": "python",
   "name": "python3"
  },
  "language_info": {
   "codemirror_mode": {
    "name": "ipython",
    "version": 3
   },
   "file_extension": ".py",
   "mimetype": "text/x-python",
   "name": "python",
   "nbconvert_exporter": "python",
   "pygments_lexer": "ipython3",
   "version": "3.10.5"
  }
 },
 "nbformat": 4,
 "nbformat_minor": 4
}
