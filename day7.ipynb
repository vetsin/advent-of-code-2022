{
 "cells": [
  {
   "cell_type": "code",
   "execution_count": 193,
   "id": "85b93295-dc1b-4bfe-9346-5560075c5ee8",
   "metadata": {},
   "outputs": [],
   "source": [
    "input = \"\"\"$ cd /\n",
    "$ ls\n",
    "dir a\n",
    "14848514 b.txt\n",
    "8504156 c.dat\n",
    "dir d\n",
    "$ cd a\n",
    "$ ls\n",
    "dir e\n",
    "29116 f\n",
    "2557 g\n",
    "62596 h.lst\n",
    "$ cd e\n",
    "$ ls\n",
    "584 i\n",
    "$ cd ..\n",
    "$ cd ..\n",
    "$ cd d\n",
    "$ ls\n",
    "4060174 j\n",
    "8033020 d.log\n",
    "5626152 d.ext\n",
    "7214296 k\"\"\""
   ]
  },
  {
   "cell_type": "code",
   "execution_count": 208,
   "id": "92c4db89-37b9-48a0-973a-1d10b3e668a9",
   "metadata": {},
   "outputs": [],
   "source": [
    "with open('day7.txt', 'r') as f:\n",
    "    input = f.read()"
   ]
  },
  {
   "cell_type": "code",
   "execution_count": 209,
   "id": "57acb684-9e01-42f6-8972-f42e7f778a13",
   "metadata": {},
   "outputs": [],
   "source": [
    "class Path:\n",
    "    def __init__(self, typ, name, parent):\n",
    "        self.typ = typ\n",
    "        self.name = name\n",
    "        self.parent = parent\n",
    "        self.children = []\n",
    "    \n",
    "    def add(self, p: Path):\n",
    "        self.children.append(p)\n",
    "        \n",
    "    def __repr__(self):\n",
    "        return self.__str__()\n",
    "    \n",
    "    def __str__(self):\n",
    "        return f\"{self.name} ({self.typ})\"\n",
    "    \n",
    "    def __eq__(self, other): \n",
    "        return self.typ == other.typ and self.name == other.name and self.parent == other.parent\n",
    "    \n",
    "    def render(self, depth=0):\n",
    "        print(f\"{' '*depth}- {self}\")\n",
    "        for c in self.children:\n",
    "            c.render(depth + 1)\n",
    "            \n",
    "    @staticmethod\n",
    "    def walk(node):\n",
    "        for n in node.children:\n",
    "            yield n\n",
    "            for c in Path.walk(n):\n",
    "                yield c\n",
    "\n",
    "class Directory(Path):\n",
    "    def __init__(self, name, parent):\n",
    "        super().__init__('dir', name, parent)\n",
    "    \n",
    "    @property\n",
    "    def size(self):\n",
    "        return sum([ x.size for x in self.children ])\n",
    "        \n",
    "class File(Path):\n",
    "    def __init__(self, size, name, parent):\n",
    "        super().__init__('file', name, parent)\n",
    "        self._size = int(size)\n",
    "        \n",
    "    def __str__(self):\n",
    "        return f\"{self.name} ({self.typ}, size={self.size})\"\n",
    "    \n",
    "    @property\n",
    "    def size(self):\n",
    "        return self._size"
   ]
  },
  {
   "cell_type": "code",
   "execution_count": 210,
   "id": "d2599133-e55e-4e01-a5fa-148456ced37a",
   "metadata": {},
   "outputs": [],
   "source": [
    "def parse_input(lines, node):\n",
    "    #print(f\"at {node}\")\n",
    "    for i, line in enumerate(lines):\n",
    "        #print(f\"\\t{line}\")\n",
    "        if line[0] == \"$\":\n",
    "            cmd = line.split()[1:]\n",
    "            if cmd[0] == \"ls\":\n",
    "                continue\n",
    "            elif cmd[0] == \"cd\":\n",
    "                if cmd[1] == '..':\n",
    "                    return parse_input(lines[i+1:], node.parent)\n",
    "                d = Directory(cmd[1], node)\n",
    "                for f in node.children:\n",
    "                    if f == d:\n",
    "                        return parse_input(lines[i+1:], f)\n",
    "        elif line.startswith(\"dir\"):\n",
    "            node.add(Directory(line.split()[-1], node))\n",
    "        else:\n",
    "            node.add(File(*line.split(), parent=node))\n",
    "root = Directory('/', None)\n",
    "parse_input(input.split('\\n')[1:], root)"
   ]
  },
  {
   "cell_type": "code",
   "execution_count": 211,
   "id": "394d7c93-15ff-4a5b-8aab-b90124553fcb",
   "metadata": {},
   "outputs": [],
   "source": [
    "#root.render()"
   ]
  },
  {
   "cell_type": "code",
   "execution_count": 220,
   "id": "9e73c2d5-ff4d-4954-8b62-e71a0a183ce1",
   "metadata": {},
   "outputs": [
    {
     "data": {
      "text/plain": [
       "46975962"
      ]
     },
     "execution_count": 220,
     "metadata": {},
     "output_type": "execute_result"
    }
   ],
   "source": [
    "root.size"
   ]
  },
  {
   "cell_type": "code",
   "execution_count": 213,
   "id": "ac759e8a-6f30-49ad-b538-77cc59702a0f",
   "metadata": {},
   "outputs": [
    {
     "data": {
      "text/plain": [
       "1334506"
      ]
     },
     "execution_count": 213,
     "metadata": {},
     "output_type": "execute_result"
    }
   ],
   "source": [
    "total = 0\n",
    "for n in Path.walk(root):\n",
    "    if n.typ == \"dir\" and n.size < 100000:\n",
    "        total += n.size\n",
    "total"
   ]
  },
  {
   "cell_type": "code",
   "execution_count": 221,
   "id": "0822d5d2-a2bd-4143-a073-f562771d95e8",
   "metadata": {},
   "outputs": [
    {
     "data": {
      "text/plain": [
       "[dzbfsf (dir), tllwm (dir), qjnnw (dir)]"
      ]
     },
     "execution_count": 221,
     "metadata": {},
     "output_type": "execute_result"
    }
   ],
   "source": [
    "needed = 30000000\n",
    "unused = 70000000 - root.size\n",
    "could_delete = []\n",
    "for n in Path.walk(root):\n",
    "    if n.typ == \"dir\":\n",
    "        #print(f\"{(root.size - n.size)}\")\n",
    "        if (root.size - n.size) < needed:\n",
    "            could_delete.append(n)\n",
    "could_delete"
   ]
  },
  {
   "cell_type": "code",
   "execution_count": 215,
   "id": "7a4072b7-3f88-4c7a-b064-2710e9bd0d1a",
   "metadata": {},
   "outputs": [
    {
     "data": {
      "text/plain": [
       "[dzbfsf (dir), tllwm (dir), qjnnw (dir)]"
      ]
     },
     "execution_count": 215,
     "metadata": {},
     "output_type": "execute_result"
    }
   ],
   "source": []
  },
  {
   "cell_type": "code",
   "execution_count": 219,
   "id": "39d22815-c6fb-463e-beb5-9431b80ac974",
   "metadata": {},
   "outputs": [
    {
     "data": {
      "text/plain": [
       "[19354558, 18659329, 17459970]"
      ]
     },
     "execution_count": 219,
     "metadata": {},
     "output_type": "execute_result"
    }
   ],
   "source": [
    "[ x.size for x in could_delete ]"
   ]
  },
  {
   "cell_type": "code",
   "execution_count": 218,
   "id": "33e457fc-80fe-4d73-be10-64be7577f8d6",
   "metadata": {},
   "outputs": [
    {
     "data": {
      "text/plain": [
       "17459970"
      ]
     },
     "execution_count": 218,
     "metadata": {},
     "output_type": "execute_result"
    }
   ],
   "source": [
    "smallest = could_delete[0]\n",
    "for r in could_delete[1:]:\n",
    "    if r.size < smallest.size:\n",
    "        smallest = r\n",
    "smallest.size"
   ]
  },
  {
   "cell_type": "code",
   "execution_count": null,
   "id": "e3696dcc-a042-4742-8a48-8baa292bb8f1",
   "metadata": {},
   "outputs": [],
   "source": []
  }
 ],
 "metadata": {
  "kernelspec": {
   "display_name": "Python 3",
   "language": "python",
   "name": "python3"
  },
  "language_info": {
   "codemirror_mode": {
    "name": "ipython",
    "version": 3
   },
   "file_extension": ".py",
   "mimetype": "text/x-python",
   "name": "python",
   "nbconvert_exporter": "python",
   "pygments_lexer": "ipython3",
   "version": "3.8.5"
  }
 },
 "nbformat": 4,
 "nbformat_minor": 5
}
