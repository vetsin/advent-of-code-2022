{
 "cells": [
  {
   "cell_type": "code",
   "execution_count": 1,
   "id": "cb18c77b-9874-4469-93bf-e51bafe85f28",
   "metadata": {},
   "outputs": [
    {
     "data": {
      "text/plain": [
       "\"    [D]    \\n[N] [C]    \\n[Z] [M] [P] [x]\\n 1   2   3 \\n\\nmove 1 from 2 to 1\\nmove 3 from 1 to 3\\nmove 2 from 2 to 1\\nmove 1 from 1 to 2\""
      ]
     },
     "execution_count": 1,
     "metadata": {},
     "output_type": "execute_result"
    }
   ],
   "source": [
    "indata = \"    [D]    \n",
    "[N] [C]    \n",
    "[Z] [M] [P] [x]\n",
    " 1   2   3 \n",
    "\n",
    "move 1 from 2 to 1\n",
    "move 3 from 1 to 3\n",
    "move 2 from 2 to 1\n",
    "move 1 from 1 to 2\""
   ]
  },
  {
   "cell_type": "code",
   "execution_count": 96,
   "id": "ff018907-51db-402e-9407-19b8d970b808",
   "metadata": {},
   "outputs": [],
   "source": [
    "s_ship, s_instructions = indata.split(\"\\n\\n\")\n",
    "nil"
   ]
  },
  {
   "cell_type": "code",
   "execution_count": 67,
   "id": "591c3312-636c-4e12-823d-00ca264e5db3",
   "metadata": {},
   "outputs": [
    {
     "data": {
      "text/plain": [
       "[1, 2, 3]"
      ]
     },
     "execution_count": 67,
     "metadata": {},
     "output_type": "execute_result"
    }
   ],
   "source": [
    "*rows, index = s_ship.split(\"\\n\")\n",
    "index = index.split.map(&:to_i)"
   ]
  },
  {
   "cell_type": "code",
   "execution_count": 68,
   "id": "74171103-c0f7-4ed6-8a4e-2e40805e1379",
   "metadata": {},
   "outputs": [
    {
     "data": {
      "text/plain": [
       "[[\"Z\", \"N\", \" \"], [\"M\", \"C\", \"D\"], [\"P\", \" \", \" \"]]"
      ]
     },
     "execution_count": 68,
     "metadata": {},
     "output_type": "execute_result"
    }
   ],
   "source": [
    "rows.map! { |x| index.map { |i| x.chars[4*i-3] } }\n",
    "rows = rows.transpose.map(&:reverse)"
   ]
  },
  {
   "cell_type": "code",
   "execution_count": 143,
   "id": "d9e9dced-8b6c-441d-8d3a-6bb22f59066c",
   "metadata": {},
   "outputs": [
    {
     "data": {
      "text/plain": [
       "{1=>[\"Z\", \"N\"], 2=>[\"M\", \"C\", \"D\"], 3=>[\"P\"]}"
      ]
     },
     "execution_count": 143,
     "metadata": {},
     "output_type": "execute_result"
    }
   ],
   "source": [
    "ship = Hash.new\n",
    "rows.each_with_index { |x, i| ship[i+1] = x-[\" \"] }\n",
    "ship"
   ]
  },
  {
   "cell_type": "code",
   "execution_count": 144,
   "id": "e8defc38-b761-46ae-bf2f-df4ff3cf2d5c",
   "metadata": {},
   "outputs": [],
   "source": [
    "for count, from, to in s_instructions.scan(/\\d+/).map(&:to_i).each_slice(3)\n",
    "    ship[to].concat(ship[from].pop(count).reverse)\n",
    "end"
   ]
  },
  {
   "cell_type": "code",
   "execution_count": 148,
   "id": "85f9add5-5fcd-4eeb-a546-69e5681d6955",
   "metadata": {},
   "outputs": [
    {
     "data": {
      "text/plain": [
       "\"CMZ\""
      ]
     },
     "execution_count": 148,
     "metadata": {},
     "output_type": "execute_result"
    }
   ],
   "source": [
    "ship.values.map(&:last).join"
   ]
  },
  {
   "cell_type": "code",
   "execution_count": null,
   "id": "b7443909-70f6-4189-9e10-904c70631737",
   "metadata": {},
   "outputs": [],
   "source": [
    "# part two is the same as above but without reverse"
   ]
  }
 ],
 "metadata": {
  "kernelspec": {
   "display_name": "Ruby 3.0.0",
   "language": "ruby",
   "name": "ruby"
  },
  "language_info": {
   "file_extension": ".rb",
   "mimetype": "application/x-ruby",
   "name": "ruby",
   "version": "3.0.0"
  }
 },
 "nbformat": 4,
 "nbformat_minor": 5
}
